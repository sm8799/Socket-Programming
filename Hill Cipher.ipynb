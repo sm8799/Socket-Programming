{
 "cells": [
  {
   "cell_type": "markdown",
   "metadata": {},
   "source": [
    "# Hill Cipher from Scratch"
   ]
  },
  {
   "cell_type": "code",
   "execution_count": 14,
   "metadata": {},
   "outputs": [],
   "source": [
    "import numpy as np"
   ]
  },
  {
   "cell_type": "code",
   "execution_count": 16,
   "metadata": {},
   "outputs": [
    {
     "name": "stdout",
     "output_type": "stream",
     "text": [
      "input a size of key matrix : 2 / 3\n",
      "2\n",
      "Enter the text you want to encrypt\n",
      "HELLO\n",
      "Encrypted text is PBNMUV\n",
      "Plaintext retrieved is HELLO\n"
     ]
    }
   ],
   "source": [
    "if __name__ == '__main__':\n",
    "    HillCipher()"
   ]
  },
  {
   "cell_type": "code",
   "execution_count": 13,
   "metadata": {},
   "outputs": [],
   "source": [
    "def HillCipher():\n",
    "    print('input a size of key matrix : 2 / 3')\n",
    "    n = int(input())\n",
    "    print('Enter the text you want to encrypt')\n",
    "    plaintext = str(input()).upper()\n",
    "    if n == 2:\n",
    "        matrix = [[5,8],[17,3]]\n",
    "    else:\n",
    "        matrix = [[17, 17, 5], [21, 18, 21], [2, 2, 19]]\n",
    "    matrixinv, condition = KeyInverse(n ,matrix)\n",
    "    if condition == False:\n",
    "        print('Incompatible key Matrix')\n",
    "        return\n",
    "    ciphertext, condition = encryption(n, matrix, plaintext)\n",
    "    plaintext, condition = encryption(n, matrixinv, ciphertext)\n",
    "    print('Encrypted text is ' + ciphertext)\n",
    "    print('Plaintext retrieved is '+ plaintext.rstrip('X'))"
   ]
  },
  {
   "cell_type": "code",
   "execution_count": 3,
   "metadata": {},
   "outputs": [],
   "source": [
    "def KeyInverse(n, matrix):\n",
    "    arr = np.array(matrix)\n",
    "    det = int(np.linalg.det(arr))\n",
    "    if det == 0:\n",
    "        return (arr, False)\n",
    "    if not computeGCD(det % 26, 26):\n",
    "        return (arr, False)\n",
    "    arr = np.linalg.inv(arr) * det\n",
    "    matrix_inverse = []\n",
    "    for i in arr:\n",
    "        l = []\n",
    "        for j in i:\n",
    "            l.append(int(round(j) % 26))\n",
    "        matrix_inverse.append(l)\n",
    "    arr = np.array(matrix_inverse)\n",
    "    det = ModInverse(det % 26 , 26)\n",
    "    arr = arr * det\n",
    "    return (arr % 26, True)"
   ]
  },
  {
   "cell_type": "code",
   "execution_count": 4,
   "metadata": {},
   "outputs": [],
   "source": [
    "def encryption(n, matrix, plaintext):\n",
    "    r, l = resolve(plaintext, n)\n",
    "    q = l // n\n",
    "    ciphertext = ''\n",
    "    for i in range(q):\n",
    "        column = np.array(r[i * n: (i + 1) * n])\n",
    "        column = np.dot(matrix, column)\n",
    "        for i in range(n):\n",
    "            column[i] = column[i] % 26\n",
    "            column[i] = column[i] + ord('A')\n",
    "            ciphertext = ciphertext + chr(column[i])\n",
    "    return (ciphertext, True)"
   ]
  },
  {
   "cell_type": "code",
   "execution_count": 5,
   "metadata": {},
   "outputs": [],
   "source": [
    "def resolve(plaintext, n):\n",
    "    l = len(plaintext)\n",
    "    if l % n == 0:\n",
    "        pass\n",
    "    else:\n",
    "        while l % n != 0:\n",
    "            plaintext = plaintext + 'X'\n",
    "            l += 1\n",
    "    r = []\n",
    "    for i in plaintext:\n",
    "        x = ord(i) - ord('A')\n",
    "        r.append(x)\n",
    "    return (r, l)"
   ]
  },
  {
   "cell_type": "code",
   "execution_count": 6,
   "metadata": {},
   "outputs": [],
   "source": [
    "def ModInverse(a, m):\n",
    "    a3 = m\n",
    "    b3 = a\n",
    "    b1, b2, a1, a2 = 0,1, 1,0\n",
    "    while b3 != 1: \n",
    "        q = a3//b3\n",
    "        t1, t2, t3 = a1 - q * b1, a2 - q * b2, a3 - q * b3\n",
    "        a1, a2, a3 = b1, b2, b3\n",
    "        b1, b2, b3 = t1, t2, t3\n",
    "    if b2 < 0:\n",
    "        b2 = b2 + m\n",
    "    return b2"
   ]
  },
  {
   "cell_type": "code",
   "execution_count": 7,
   "metadata": {},
   "outputs": [],
   "source": [
    "def computeGCD(x, y): \n",
    "  \n",
    "    while(y): \n",
    "        x, y = y, x % y \n",
    "  \n",
    "    return x == 1"
   ]
  },
  {
   "cell_type": "code",
   "execution_count": null,
   "metadata": {},
   "outputs": [],
   "source": []
  }
 ],
 "metadata": {
  "kernelspec": {
   "display_name": "Python 3",
   "language": "python",
   "name": "python3"
  },
  "language_info": {
   "codemirror_mode": {
    "name": "ipython",
    "version": 3
   },
   "file_extension": ".py",
   "mimetype": "text/x-python",
   "name": "python",
   "nbconvert_exporter": "python",
   "pygments_lexer": "ipython3",
   "version": "3.7.4"
  }
 },
 "nbformat": 4,
 "nbformat_minor": 2
}
