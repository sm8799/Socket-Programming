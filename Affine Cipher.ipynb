{
 "cells": [
  {
   "cell_type": "markdown",
   "metadata": {},
   "source": [
    "# Affine Cipher from Scratch"
   ]
  },
  {
   "cell_type": "code",
   "execution_count": 21,
   "metadata": {},
   "outputs": [
    {
     "name": "stdout",
     "output_type": "stream",
     "text": [
      "Enter Plaintext :\n",
      "HELLO\n",
      "Enter a and b :\n",
      "5 8\n",
      "RCLLA True\n",
      "HELLO 21\n"
     ]
    }
   ],
   "source": [
    "if __name__ == '__main__':\n",
    "    affine()"
   ]
  },
  {
   "cell_type": "code",
   "execution_count": 19,
   "metadata": {},
   "outputs": [],
   "source": [
    "def affine():\n",
    "    print('Enter Plaintext :')\n",
    "    plaintext = str(input()).upper()\n",
    "    print('Enter a and b :')\n",
    "    a, b = list(map(int, input().split()))\n",
    "#     plaintext = 'AFFINECIPHER'\n",
    "#     a = 5\n",
    "#     b = 8\n",
    "    m = 26\n",
    "    ciphertext, condition = encryption(plaintext, a, b, m)\n",
    "    if condition == False:\n",
    "        print('a and m are not coprime')\n",
    "        return\n",
    "    print(ciphertext, condition)\n",
    "    plaintext, modinverse = decryption(ciphertext, a, b, m)\n",
    "    print(plaintext, modinverse)\n",
    "    "
   ]
  },
  {
   "cell_type": "code",
   "execution_count": 13,
   "metadata": {},
   "outputs": [],
   "source": [
    "def encryption(plaintext, a, b, m):\n",
    "    if computeGCD(a, m):\n",
    "        ciphertext = PlainToCipher(plaintext, a, b, m)\n",
    "    else:\n",
    "        return (0, False)\n",
    "    return ciphertext, True"
   ]
  },
  {
   "cell_type": "code",
   "execution_count": 14,
   "metadata": {},
   "outputs": [],
   "source": [
    "def computeGCD(x, y): \n",
    "  \n",
    "    while(y): \n",
    "        x, y = y, x % y \n",
    "  \n",
    "    return x == 1"
   ]
  },
  {
   "cell_type": "code",
   "execution_count": 15,
   "metadata": {},
   "outputs": [],
   "source": [
    "def PlainToCipher(plaintext, a, b, m):\n",
    "    ciphertext = ''\n",
    "    for ch in plaintext:\n",
    "        p = ord(ch) - ord('A')\n",
    "        x = a * p + b\n",
    "        x = x % 26\n",
    "        x = x + ord('A')\n",
    "        x = chr(x)\n",
    "        ciphertext = ciphertext + x\n",
    "    return ciphertext"
   ]
  },
  {
   "cell_type": "code",
   "execution_count": 16,
   "metadata": {},
   "outputs": [],
   "source": [
    "def decryption(ciphertext, a, b, m):\n",
    "    plaintext = ''\n",
    "    ainverse = ModInverse(a, m)\n",
    "    for ch in ciphertext:\n",
    "        p = ord(ch) - ord('A') - b\n",
    "        x = ainverse * p\n",
    "        x = x % 26\n",
    "        x = x + ord('A')\n",
    "        x = chr(x)\n",
    "        plaintext = plaintext + x\n",
    "    return plaintext, ainverse"
   ]
  },
  {
   "cell_type": "code",
   "execution_count": 17,
   "metadata": {},
   "outputs": [],
   "source": [
    "def ModInverse(a, m):\n",
    "    a3 = m\n",
    "    b3 = a\n",
    "    b1, b2, a1, a2 = 0,1, 1,0\n",
    "    while b3!= 1: \n",
    "        q = a3//b3\n",
    "        t1, t2, t3 = a1 - q * b1, a2 - q * b2, a3 - q * b3\n",
    "        a1, a2, a3 = b1, b2, b3\n",
    "        b1, b2, b3 = t1, t2, t3\n",
    "    if b2 < 0:\n",
    "        b2 = b2 + m\n",
    "    return b2"
   ]
  },
  {
   "cell_type": "code",
   "execution_count": null,
   "metadata": {},
   "outputs": [],
   "source": []
  }
 ],
 "metadata": {
  "kernelspec": {
   "display_name": "Python 3",
   "language": "python",
   "name": "python3"
  },
  "language_info": {
   "codemirror_mode": {
    "name": "ipython",
    "version": 3
   },
   "file_extension": ".py",
   "mimetype": "text/x-python",
   "name": "python",
   "nbconvert_exporter": "python",
   "pygments_lexer": "ipython3",
   "version": "3.7.4"
  }
 },
 "nbformat": 4,
 "nbformat_minor": 2
}
