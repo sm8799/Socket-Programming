{
 "cells": [
  {
   "cell_type": "markdown",
   "metadata": {},
   "source": [
    "# Playfair Cipher from the scratch"
   ]
  },
  {
   "cell_type": "code",
   "execution_count": 29,
   "metadata": {},
   "outputs": [
    {
     "name": "stdout",
     "output_type": "stream",
     "text": [
      "hello\n",
      "jack\n",
      "Encrypted message is PHKR\n",
      "Decrypted message is JACK\n"
     ]
    }
   ],
   "source": [
    "import numpy as np\n",
    "l = ['A','B','C','D','E','F','G','H','I','K','L','M','N','O','P','Q','R','S','T','U','V','W','X','Y','Z']\n",
    "if __name__ == '__main__':\n",
    "    PlayfairCipher()"
   ]
  },
  {
   "cell_type": "code",
   "execution_count": 18,
   "metadata": {},
   "outputs": [],
   "source": [
    "def PlayfairCipher():\n",
    "    key = str(input()).upper()\n",
    "    plaintext = str(input()).upper()\n",
    "    plaintext = plaintext.replace(' ', '')\n",
    "#     key = 'PLAYFAIREXAMPLE'\n",
    "#     plaintext = 'Hidethegoldinthetreestump'\n",
    "#     plaintext = plaintext.upper()\n",
    "    key = list(key)\n",
    "    matrix = FitKey(key)\n",
    "    array = np.array(matrix)\n",
    "    digrams = MakeDigrams(plaintext)\n",
    "    ciphertext, array = encryption(array, digrams)\n",
    "    plaintext = decryption(array, ciphertext)\n",
    "    print('Encrypted message is ' + ciphertext)\n",
    "    print('Decrypted message is ' + plaintext)"
   ]
  },
  {
   "cell_type": "code",
   "execution_count": 19,
   "metadata": {},
   "outputs": [],
   "source": [
    "def FitKey(key):\n",
    "    alphabet = l.copy()\n",
    "    key = Remove(key)\n",
    "    if ('I' in key and 'J' in key):\n",
    "        key.remove('J')\n",
    "    keylength = len(key)\n",
    "    matrix = {}\n",
    "    IJ = False\n",
    "    for i in range(5):\n",
    "        matrix[i] = []\n",
    "        for j in range(5):\n",
    "            if (i*5 + j) < keylength:\n",
    "                ch = key[::-1].pop()\n",
    "                key.remove(ch)\n",
    "                if (ch == 'I' or ch == 'J') and IJ == False:\n",
    "                    matrix[i].append(ch)\n",
    "                    alphabet.remove(ch)\n",
    "                    IJ = True\n",
    "                    continue\n",
    "                else:\n",
    "                    if (ch != 'I' and ch != 'J'):\n",
    "                        matrix[i].append(ch)\n",
    "                        alphabet.remove(ch)\n",
    "                    else:\n",
    "                        j = j - 1\n",
    "            else:\n",
    "                ch = alphabet[::-1].pop()\n",
    "                alphabet.remove(ch)\n",
    "                if (ch == 'I' or ch == 'J') and IJ == False:\n",
    "                    matrix[i].append(ch)\n",
    "                    IJ = True\n",
    "                else:\n",
    "                    if (ch != 'I' and ch != 'J'):\n",
    "                        matrix[i].append(ch)\n",
    "                    else:\n",
    "                        j = j - 1\n",
    "    data = []\n",
    "    for i in matrix.values():\n",
    "        data.append(i)\n",
    "    return data"
   ]
  },
  {
   "cell_type": "code",
   "execution_count": 20,
   "metadata": {},
   "outputs": [],
   "source": [
    "def Remove(duplicate): \n",
    "    final_list = [] \n",
    "    for ch in duplicate: \n",
    "        if ch not in final_list: \n",
    "            final_list.append(ch) \n",
    "    return final_list"
   ]
  },
  {
   "cell_type": "code",
   "execution_count": 21,
   "metadata": {},
   "outputs": [],
   "source": [
    "def MakeDigrams(plaintext):\n",
    "    plaintext = list(plaintext)\n",
    "    digram = []\n",
    "    current = []\n",
    "    for ch in plaintext:\n",
    "        if len(current) != 2 and ch not in current:\n",
    "            current.append(ch)\n",
    "        elif len(current) != 2 and ch in current:\n",
    "            current.append('X')\n",
    "            digram.append(current)\n",
    "            current = []\n",
    "            current.append(ch)\n",
    "        elif len(current) == 2:\n",
    "            digram.append(current)\n",
    "            current = []\n",
    "            current.append(ch)\n",
    "    if len(current) == 1:\n",
    "        current.append('Z')\n",
    "    digram.append(current)\n",
    "    return digram"
   ]
  },
  {
   "cell_type": "code",
   "execution_count": 22,
   "metadata": {},
   "outputs": [],
   "source": [
    "def encryption(array, digrams):\n",
    "    ciphertext = ''\n",
    "    for digram in digrams:\n",
    "        L = digram[0]\n",
    "        R = digram[1]\n",
    "        if L == 'J':\n",
    "            a1, b1 = np.where(array == 'I')\n",
    "            array[a1,b1] = 'J'\n",
    "        if R == 'J':\n",
    "            a1, b1 = np.where(array == 'I')\n",
    "            array[a1,b1] = 'J'\n",
    "        a1, b1 = np.where(array == L)\n",
    "        a2, b2 = np.where(array == R)\n",
    "        a1, b1, a2, b2 = int(a1), int(b1), int(a2), int(b2)\n",
    "        if a1 == a2:\n",
    "            jodi = getrowwise(array, a1, b1, b2)\n",
    "        elif b1 == b2:\n",
    "            jodi = getcolumnwise(array, b1, a1, a2)\n",
    "        else:\n",
    "            jodi = getnormal(array, a1, a2, b1, b2)\n",
    "        ciphertext = ciphertext + jodi[0] + jodi[1]\n",
    "    return (ciphertext, array)"
   ]
  },
  {
   "cell_type": "code",
   "execution_count": 23,
   "metadata": {},
   "outputs": [],
   "source": [
    "def getrowwise(array, a1, b1, b2):\n",
    "    b1, b2 = (b1 + 1) % 5, (b2 + 1) % 5\n",
    "    return (array[a1, b1], array[a1, b2])"
   ]
  },
  {
   "cell_type": "code",
   "execution_count": 24,
   "metadata": {},
   "outputs": [],
   "source": [
    "def getcolumnwise(array, b1, a1, a2):\n",
    "    a1, a2 = (a1 + 1) % 5, (a2 + 1) % 5\n",
    "    return (array[a1, b1], array[a2, b1])"
   ]
  },
  {
   "cell_type": "code",
   "execution_count": 25,
   "metadata": {},
   "outputs": [],
   "source": [
    "def getnormal(array, a1, a2, b1, b2):\n",
    "    return (array[a1, b2], array[a2, b1])"
   ]
  },
  {
   "cell_type": "code",
   "execution_count": 26,
   "metadata": {},
   "outputs": [],
   "source": [
    "def decryption(array, ciphertext):\n",
    "    def MakeDigrams(ciphertext):\n",
    "        ciphertext = list(ciphertext)\n",
    "        digram = []\n",
    "        current = []\n",
    "        for ch in ciphertext:\n",
    "            if len(current) != 2:\n",
    "                current.append(ch)\n",
    "            elif len(current) == 2:\n",
    "                digram.append(current)\n",
    "                current = []\n",
    "                current.append(ch)\n",
    "        if len(current) == 1:\n",
    "            current.append('Z')\n",
    "        digram.append(current)\n",
    "        return digram\n",
    "    \n",
    "    def getrowwise(array, a1, b1, b2):\n",
    "        b1, b2 = (b1 - 1) % 5, (b2 - 1) % 5\n",
    "        return (array[a1, b1], array[a1, b2])\n",
    "                    \n",
    "    def getcolumnwise(array, b1, a1, a2):\n",
    "        a1, a2 = (a1 - 1) % 5, (a2 - 1) % 5\n",
    "        return (array[a1, b1], array[a2, b1])\n",
    "                    \n",
    "    def getnormal(array, a1, a2, b1, b2):\n",
    "        return (array[a1, b2], array[a2, b1])\n",
    "                    \n",
    "    def encryption(array, digrams):\n",
    "        plaintext = ''\n",
    "        for digram in digrams:\n",
    "            L = digram[0]\n",
    "            R = digram[1]\n",
    "            a1, b1 = np.where(array == L)\n",
    "            a2, b2 = np.where(array == R)\n",
    "            a1, b1, a2, b2 = int(a1), int(b1), int(a2), int(b2)\n",
    "            if a1 == a2:\n",
    "                jodi = getrowwise(array, a1, b1, b2)\n",
    "            elif b1 == b2:\n",
    "                jodi = getcolumnwise(array, b1, a1, a2)\n",
    "            else:\n",
    "                jodi = getnormal(array, a1, a2, b1, b2)\n",
    "            plaintext = plaintext + jodi[0] + jodi[1]\n",
    "        return plaintext\n",
    "    \n",
    "    digrams = MakeDigrams(ciphertext)\n",
    "    plaintext = str(encryption(array, digrams))\n",
    "    plaintext = plaintext.replace('X','')\n",
    "    plaintext = plaintext.replace('Z', '')\n",
    "    return plaintext"
   ]
  },
  {
   "cell_type": "code",
   "execution_count": null,
   "metadata": {},
   "outputs": [],
   "source": []
  }
 ],
 "metadata": {
  "kernelspec": {
   "display_name": "Python 3",
   "language": "python",
   "name": "python3"
  },
  "language_info": {
   "codemirror_mode": {
    "name": "ipython",
    "version": 3
   },
   "file_extension": ".py",
   "mimetype": "text/x-python",
   "name": "python",
   "nbconvert_exporter": "python",
   "pygments_lexer": "ipython3",
   "version": "3.7.4"
  }
 },
 "nbformat": 4,
 "nbformat_minor": 2
}
